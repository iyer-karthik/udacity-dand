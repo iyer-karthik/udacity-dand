{
 "cells": [
  {
   "cell_type": "code",
   "execution_count": 94,
   "metadata": {},
   "outputs": [
    {
     "data": {
      "text/html": [
       "<style>\n",
       "  table {margin-left: 0 !important;}\n",
       "</style>"
      ],
      "text/plain": [
       "<IPython.core.display.HTML object>"
      ]
     },
     "metadata": {},
     "output_type": "display_data"
    }
   ],
   "source": [
    "%%html\n",
    "<style>\n",
    "  table {margin-left: 0 !important;}\n",
    "</style>"
   ]
  },
  {
   "cell_type": "markdown",
   "metadata": {},
   "source": [
    "# INTRODUCTION AND OVERVIEW\n",
    "\n",
    "The sinking of the RMS Titanic is one of the most infamous shipwrecks in history. RMS Titanic was a passenger<br> liner that sank in the North Atlantic Ocean in the early morning of 15 April 1912, after colliding with an iceberg. <br>Of the estimated 2,224 passengers and crew aboard, more than 1,500 died, making it one of the deadliest<br> commercial peacetime maritime disasters in modern history.  One of the reasons that the shipwreck led to such <br>loss of life was that there were not enough lifeboats for the passengers and crew. \n",
    "\n",
    "In this project our goal is to understand what category of passengers were more likely to survive. Our dataset is <br>\n",
    "a  CSV file that contains demographics and passenger information from 891 of the 2224 passengers and crew on<br>\n",
    "board the Titanic. \n",
    "\n",
    "#### Data Dictionary\n",
    "---------------------------------------\n",
    "Let us first look at the variables and their definitions in the dataset. \n",
    "\n",
    "| Variable      |   Definition  |          Key              |\n",
    "| ------------- |:------------- | :------------------------\n",
    "| survival      | Survival      | 0 = No; 1 = Yes           |\n",
    "| pclass        | Ticket class  | 1 = 1st; 2 = 2nd; 3 = 3rd |\n",
    "| sex           | Gender        |                           |\n",
    "| Age           | Age in years  |                           |\n",
    "| sibsp         | # of siblings/|                           |\n",
    "|               | spouses aboard|                           |\n",
    "|               | the Titanic \n",
    "| parch         | # of parents/ |                           |\n",
    "|               | children on   |                           |\n",
    "|               | the  Titanic  |                           |\n",
    "| ticket        | Ticket number |                           |\n",
    "| fare          | Passenger Fare|                           |\n",
    "| cabin         | Cabin number  |                           |\n",
    "| embarked      | Port of Embar-| C = Cherbourg;            |\n",
    "|               | kation        | Q = Queenstown;           |\n",
    "|               |               | S = Southampton\n",
    "\n",
    "#### Variable Notes\n",
    "----------------------------------------\n",
    "\n",
    "*pclass*: A proxy for socio-economic status (SES)<br>\n",
    "1st = Upper<br>\n",
    "2nd = Middle<br>\n",
    "3rd = Lower\n",
    "\n",
    "*age*: Age is fractional if less than 1. If the age is estimated, is it in the form of xx.5\n",
    "\n",
    "*sibsp*: <br>\n",
    "Sibling = brother, sister, stepbrother, stepsister<br>\n",
    "Spouse = husband, wife (mistresses and fiancés were ignored)\n",
    "\n",
    "*parch*: <br>\n",
    "Parent = mother, father<br>\n",
    "Child = daughter, son, stepdaughter, stepson\n",
    "\n",
    "Some children travelled only with a nanny, therefore parch=0 for them.\n"
   ]
  },
  {
   "cell_type": "markdown",
   "metadata": {},
   "source": [
    "## Goal\n",
    "----------------------------------\n",
    "The goal of this project is to analyze what factors made passengers more likely to survive. To be more precise, we choose <br>\n",
    "the outcome variable as *Survival* and choose different variables and understand if any of these factors or their combinations<br> had an effect on the survival of passengers. Let us emphasize that the the goal of this\n",
    "project is not to pinpoint<br> certain factors as the *cause* for survival but to merely observe which factors made survival more likely."
   ]
  },
  {
   "cell_type": "markdown",
   "metadata": {},
   "source": [
    "# Loading and Wrangling Data\n",
    "-----------------------------------------------------\n",
    "\n",
    "Let us start by loading the dataset in to a *Pandas* dataframe."
   ]
  },
  {
   "cell_type": "code",
   "execution_count": 2,
   "metadata": {
    "collapsed": true
   },
   "outputs": [],
   "source": [
    "import pandas as pd\n",
    "import numpy as np \n",
    "import matplotlib.pyplot as plt\n",
    "import csv as csv\n",
    "import seaborn as sns\n",
    "%matplotlib inline\n",
    "\n",
    "url = \"https://d17h27t6h515a5.cloudfront.net/topher/2016/September/57e9a84c_titanic-data/titanic-data.csv\"\n",
    "titanic_data = pd.read_csv(url)"
   ]
  },
  {
   "cell_type": "markdown",
   "metadata": {},
   "source": [
    "Let us view the last few rows of our dataframe."
   ]
  },
  {
   "cell_type": "code",
   "execution_count": 3,
   "metadata": {
    "scrolled": true
   },
   "outputs": [
    {
     "data": {
      "text/html": [
       "<div>\n",
       "<style>\n",
       "    .dataframe thead tr:only-child th {\n",
       "        text-align: right;\n",
       "    }\n",
       "\n",
       "    .dataframe thead th {\n",
       "        text-align: left;\n",
       "    }\n",
       "\n",
       "    .dataframe tbody tr th {\n",
       "        vertical-align: top;\n",
       "    }\n",
       "</style>\n",
       "<table border=\"1\" class=\"dataframe\">\n",
       "  <thead>\n",
       "    <tr style=\"text-align: right;\">\n",
       "      <th></th>\n",
       "      <th>PassengerId</th>\n",
       "      <th>Survived</th>\n",
       "      <th>Pclass</th>\n",
       "      <th>Name</th>\n",
       "      <th>Sex</th>\n",
       "      <th>Age</th>\n",
       "      <th>SibSp</th>\n",
       "      <th>Parch</th>\n",
       "      <th>Ticket</th>\n",
       "      <th>Fare</th>\n",
       "      <th>Cabin</th>\n",
       "      <th>Embarked</th>\n",
       "    </tr>\n",
       "  </thead>\n",
       "  <tbody>\n",
       "    <tr>\n",
       "      <th>886</th>\n",
       "      <td>887</td>\n",
       "      <td>0</td>\n",
       "      <td>2</td>\n",
       "      <td>Montvila, Rev. Juozas</td>\n",
       "      <td>male</td>\n",
       "      <td>27.0</td>\n",
       "      <td>0</td>\n",
       "      <td>0</td>\n",
       "      <td>211536</td>\n",
       "      <td>13.00</td>\n",
       "      <td>NaN</td>\n",
       "      <td>S</td>\n",
       "    </tr>\n",
       "    <tr>\n",
       "      <th>887</th>\n",
       "      <td>888</td>\n",
       "      <td>1</td>\n",
       "      <td>1</td>\n",
       "      <td>Graham, Miss. Margaret Edith</td>\n",
       "      <td>female</td>\n",
       "      <td>19.0</td>\n",
       "      <td>0</td>\n",
       "      <td>0</td>\n",
       "      <td>112053</td>\n",
       "      <td>30.00</td>\n",
       "      <td>B42</td>\n",
       "      <td>S</td>\n",
       "    </tr>\n",
       "    <tr>\n",
       "      <th>888</th>\n",
       "      <td>889</td>\n",
       "      <td>0</td>\n",
       "      <td>3</td>\n",
       "      <td>Johnston, Miss. Catherine Helen \"Carrie\"</td>\n",
       "      <td>female</td>\n",
       "      <td>NaN</td>\n",
       "      <td>1</td>\n",
       "      <td>2</td>\n",
       "      <td>W./C. 6607</td>\n",
       "      <td>23.45</td>\n",
       "      <td>NaN</td>\n",
       "      <td>S</td>\n",
       "    </tr>\n",
       "    <tr>\n",
       "      <th>889</th>\n",
       "      <td>890</td>\n",
       "      <td>1</td>\n",
       "      <td>1</td>\n",
       "      <td>Behr, Mr. Karl Howell</td>\n",
       "      <td>male</td>\n",
       "      <td>26.0</td>\n",
       "      <td>0</td>\n",
       "      <td>0</td>\n",
       "      <td>111369</td>\n",
       "      <td>30.00</td>\n",
       "      <td>C148</td>\n",
       "      <td>C</td>\n",
       "    </tr>\n",
       "    <tr>\n",
       "      <th>890</th>\n",
       "      <td>891</td>\n",
       "      <td>0</td>\n",
       "      <td>3</td>\n",
       "      <td>Dooley, Mr. Patrick</td>\n",
       "      <td>male</td>\n",
       "      <td>32.0</td>\n",
       "      <td>0</td>\n",
       "      <td>0</td>\n",
       "      <td>370376</td>\n",
       "      <td>7.75</td>\n",
       "      <td>NaN</td>\n",
       "      <td>Q</td>\n",
       "    </tr>\n",
       "  </tbody>\n",
       "</table>\n",
       "</div>"
      ],
      "text/plain": [
       "     PassengerId  Survived  Pclass                                      Name  \\\n",
       "886          887         0       2                     Montvila, Rev. Juozas   \n",
       "887          888         1       1              Graham, Miss. Margaret Edith   \n",
       "888          889         0       3  Johnston, Miss. Catherine Helen \"Carrie\"   \n",
       "889          890         1       1                     Behr, Mr. Karl Howell   \n",
       "890          891         0       3                       Dooley, Mr. Patrick   \n",
       "\n",
       "        Sex   Age  SibSp  Parch      Ticket   Fare Cabin Embarked  \n",
       "886    male  27.0      0      0      211536  13.00   NaN        S  \n",
       "887  female  19.0      0      0      112053  30.00   B42        S  \n",
       "888  female   NaN      1      2  W./C. 6607  23.45   NaN        S  \n",
       "889    male  26.0      0      0      111369  30.00  C148        C  \n",
       "890    male  32.0      0      0      370376   7.75   NaN        Q  "
      ]
     },
     "execution_count": 3,
     "metadata": {},
     "output_type": "execute_result"
    }
   ],
   "source": [
    "titanic_data.tail()"
   ]
  },
  {
   "cell_type": "markdown",
   "metadata": {},
   "source": [
    "Notice that *Fare* values are directly related to *Pclass* values. Analyzing the survival data corresponding to <br>\n",
    "*Pclass* values will be very similar to survival data for *Fare* Values. We can thus safely drop the *Fare* column <br>\n",
    "from further analysis. *Ticket* is most likely related to *Fare*, *Cabin* and *Class*. We can afford to\n",
    "drop this column too.\n",
    "\n",
    "We also observe that there are some NaN values. Let us first see which columns have missing observations. "
   ]
  },
  {
   "cell_type": "code",
   "execution_count": 4,
   "metadata": {},
   "outputs": [
    {
     "data": {
      "text/plain": [
       "Index([u'Age', u'Cabin', u'Embarked'], dtype='object')"
      ]
     },
     "execution_count": 4,
     "metadata": {},
     "output_type": "execute_result"
    }
   ],
   "source": [
    "missing_observations = titanic_data.columns[titanic_data.isnull().any()]\n",
    "missing_observations"
   ]
  },
  {
   "cell_type": "markdown",
   "metadata": {},
   "source": [
    "The columns \"Age\", \"Cabin\" and \"Embarked\" have missing values. Let us now now see how many \n",
    "missing observations <br>are there in each of these 3 columns. "
   ]
  },
  {
   "cell_type": "code",
   "execution_count": 5,
   "metadata": {},
   "outputs": [
    {
     "name": "stdout",
     "output_type": "stream",
     "text": [
      "Age has 177 missing observations.\n",
      "Cabin has 687 missing observations.\n",
      "Embarked has 2 missing observations.\n"
     ]
    }
   ],
   "source": [
    "for columns in missing_observations:\n",
    "    count = pd.isnull(titanic_data[columns]).sum()\n",
    "    print('{} has {} missing observations.'.format(columns, count))    "
   ]
  },
  {
   "cell_type": "markdown",
   "metadata": {},
   "source": [
    "*Age* and *Cabin* columns have quite a few missing observations. In fact 687 out of a possible 891 observations are missing<BR> in the *Cabin* column. We cannot make any reasonable guess on the survival based on the remaining observations under<BR> the *Cabin* column. We thus drop the observations under the *Cabin* column for further analysis. *Age* also has a good chunk<BR> of values missing. However we choose not to drop the *Age* column as there are still many non missing values under <br>*Age* which would be helpful in indicating the presence of a trend. \n",
    "\n",
    "We choose *Age* as one of the independent variables in further analysis. *Embarked* only has 2 missing observations. \n",
    "<br>Let us view the rows corresponding to the missing *Embarked* values."
   ]
  },
  {
   "cell_type": "code",
   "execution_count": 6,
   "metadata": {},
   "outputs": [
    {
     "data": {
      "text/html": [
       "<div>\n",
       "<style>\n",
       "    .dataframe thead tr:only-child th {\n",
       "        text-align: right;\n",
       "    }\n",
       "\n",
       "    .dataframe thead th {\n",
       "        text-align: left;\n",
       "    }\n",
       "\n",
       "    .dataframe tbody tr th {\n",
       "        vertical-align: top;\n",
       "    }\n",
       "</style>\n",
       "<table border=\"1\" class=\"dataframe\">\n",
       "  <thead>\n",
       "    <tr style=\"text-align: right;\">\n",
       "      <th></th>\n",
       "      <th>PassengerId</th>\n",
       "      <th>Survived</th>\n",
       "      <th>Pclass</th>\n",
       "      <th>Name</th>\n",
       "      <th>Sex</th>\n",
       "      <th>Age</th>\n",
       "      <th>SibSp</th>\n",
       "      <th>Parch</th>\n",
       "      <th>Ticket</th>\n",
       "      <th>Fare</th>\n",
       "      <th>Cabin</th>\n",
       "      <th>Embarked</th>\n",
       "    </tr>\n",
       "  </thead>\n",
       "  <tbody>\n",
       "    <tr>\n",
       "      <th>61</th>\n",
       "      <td>62</td>\n",
       "      <td>1</td>\n",
       "      <td>1</td>\n",
       "      <td>Icard, Miss. Amelie</td>\n",
       "      <td>female</td>\n",
       "      <td>38.0</td>\n",
       "      <td>0</td>\n",
       "      <td>0</td>\n",
       "      <td>113572</td>\n",
       "      <td>80.0</td>\n",
       "      <td>B28</td>\n",
       "      <td>NaN</td>\n",
       "    </tr>\n",
       "    <tr>\n",
       "      <th>829</th>\n",
       "      <td>830</td>\n",
       "      <td>1</td>\n",
       "      <td>1</td>\n",
       "      <td>Stone, Mrs. George Nelson (Martha Evelyn)</td>\n",
       "      <td>female</td>\n",
       "      <td>62.0</td>\n",
       "      <td>0</td>\n",
       "      <td>0</td>\n",
       "      <td>113572</td>\n",
       "      <td>80.0</td>\n",
       "      <td>B28</td>\n",
       "      <td>NaN</td>\n",
       "    </tr>\n",
       "  </tbody>\n",
       "</table>\n",
       "</div>"
      ],
      "text/plain": [
       "     PassengerId  Survived  Pclass                                       Name  \\\n",
       "61            62         1       1                        Icard, Miss. Amelie   \n",
       "829          830         1       1  Stone, Mrs. George Nelson (Martha Evelyn)   \n",
       "\n",
       "        Sex   Age  SibSp  Parch  Ticket  Fare Cabin Embarked  \n",
       "61   female  38.0      0      0  113572  80.0   B28      NaN  \n",
       "829  female  62.0      0      0  113572  80.0   B28      NaN  "
      ]
     },
     "execution_count": 6,
     "metadata": {},
     "output_type": "execute_result"
    }
   ],
   "source": [
    "titanic_data[pd.isnull(titanic_data['Embarked'])]"
   ]
  },
  {
   "cell_type": "markdown",
   "metadata": {},
   "source": [
    "There are two passengers Miss. Amelie Icard and Mrs. George Nelson Stone with missing Embarked values. We <br>notice that both of them travelled on the same ticket and survived. Our first thought was that both of them booked their <br>tickets but did not embark.\n",
    "But a little bit of searching reveals that both of them indeed were aboard the Titanic. We thus <br>keep both of these observations in our data set for further analysis. \n",
    "\n",
    "Next we refine the data set by discarding the columns in our dataframe that were deemed unnecessary or<br> insufficient for further analysis."
   ]
  },
  {
   "cell_type": "code",
   "execution_count": 7,
   "metadata": {
    "collapsed": true
   },
   "outputs": [],
   "source": [
    "relevant_cols = [columns for columns in titanic_data.columns if columns not in [\"Fare\",\"Cabin\",\"Ticket\"]]\n",
    "titanic_data=titanic_data[relevant_cols]"
   ]
  },
  {
   "cell_type": "markdown",
   "metadata": {},
   "source": [
    "# Data Analysis"
   ]
  },
  {
   "cell_type": "markdown",
   "metadata": {},
   "source": [
    "Before we proceed on to the data analysis, let us calculate how many passengers survived."
   ]
  },
  {
   "cell_type": "code",
   "execution_count": 8,
   "metadata": {},
   "outputs": [
    {
     "data": {
      "text/html": [
       "<div>\n",
       "<style>\n",
       "    .dataframe thead tr:only-child th {\n",
       "        text-align: right;\n",
       "    }\n",
       "\n",
       "    .dataframe thead th {\n",
       "        text-align: left;\n",
       "    }\n",
       "\n",
       "    .dataframe tbody tr th {\n",
       "        vertical-align: top;\n",
       "    }\n",
       "</style>\n",
       "<table border=\"1\" class=\"dataframe\">\n",
       "  <thead>\n",
       "    <tr style=\"text-align: right;\">\n",
       "      <th></th>\n",
       "      <th>PassengerId</th>\n",
       "      <th>Pclass</th>\n",
       "      <th>Name</th>\n",
       "      <th>Sex</th>\n",
       "      <th>Age</th>\n",
       "      <th>SibSp</th>\n",
       "      <th>Parch</th>\n",
       "      <th>Embarked</th>\n",
       "    </tr>\n",
       "    <tr>\n",
       "      <th>Survived</th>\n",
       "      <th></th>\n",
       "      <th></th>\n",
       "      <th></th>\n",
       "      <th></th>\n",
       "      <th></th>\n",
       "      <th></th>\n",
       "      <th></th>\n",
       "      <th></th>\n",
       "    </tr>\n",
       "  </thead>\n",
       "  <tbody>\n",
       "    <tr>\n",
       "      <th>0</th>\n",
       "      <td>549</td>\n",
       "      <td>549</td>\n",
       "      <td>549</td>\n",
       "      <td>549</td>\n",
       "      <td>424</td>\n",
       "      <td>549</td>\n",
       "      <td>549</td>\n",
       "      <td>549</td>\n",
       "    </tr>\n",
       "    <tr>\n",
       "      <th>1</th>\n",
       "      <td>342</td>\n",
       "      <td>342</td>\n",
       "      <td>342</td>\n",
       "      <td>342</td>\n",
       "      <td>290</td>\n",
       "      <td>342</td>\n",
       "      <td>342</td>\n",
       "      <td>340</td>\n",
       "    </tr>\n",
       "  </tbody>\n",
       "</table>\n",
       "</div>"
      ],
      "text/plain": [
       "          PassengerId  Pclass  Name  Sex  Age  SibSp  Parch  Embarked\n",
       "Survived                                                             \n",
       "0                 549     549   549  549  424    549    549       549\n",
       "1                 342     342   342  342  290    342    342       340"
      ]
     },
     "execution_count": 8,
     "metadata": {},
     "output_type": "execute_result"
    }
   ],
   "source": [
    "passengers_by_survival = titanic_data.groupby(\"Survived\").count()\n",
    "passengers_by_survival"
   ]
  },
  {
   "cell_type": "markdown",
   "metadata": {},
   "source": [
    "549 of the 891 passengers did not survive. To visualize the passenger split up by survival, let us create a pie chart. <br>Recall that each of the 891 passengers has a \n",
    "unique PassengerId. To visualize the passenger split up, we thus choose the <BR>PassengerId column of the \n",
    "*passengers_by_survival* dataframe and draw a pie chart for numbers corresponding<BR> to that column."
   ]
  },
  {
   "cell_type": "code",
   "execution_count": 9,
   "metadata": {},
   "outputs": [
    {
     "data": {
      "text/plain": [
       "<matplotlib.text.Text at 0xc2a2080>"
      ]
     },
     "execution_count": 9,
     "metadata": {},
     "output_type": "execute_result"
    },
    {
     "data": {
      "image/png": "[encoded data removed]",
      "text/plain": [
       "<matplotlib.figure.Figure at 0xc10e5f8>"
      ]
     },
     "metadata": {},
     "output_type": "display_data"
    }
   ],
   "source": [
    "plotpie_by_survival = passengers_by_survival.plot.pie(\"PassengerId\",\n",
    "                                                      autopct=\"%0.2f\",\n",
    "                                                      title=\"Titanic passenger percentage split up by survival\",\n",
    "                                                      labels=[\"Not Survived\", \"Survivded\"],\n",
    "                                                      colormap='Paired',\n",
    "                                                      stacked=True,\n",
    "                                                      grid = False,\n",
    "                                                      figsize=(6,6))\n",
    "plotpie_by_survival.set_ylabel('')"
   ]
  },
  {
   "cell_type": "markdown",
   "metadata": {},
   "source": [
    "We observe that over 61% of the passengers i.e a majority did not survive.\n",
    "\n",
    "### Choosing variables\n",
    "--------------------------------------\n",
    "Our main goal in this project is to understand which variables affected survival. There are 8 columns<br>\n",
    "which we can potentially study (*Age, Pclass, Sex, Name, Sibsp, Parch, Embarked, PassengerId*). Out of<br>\n",
    "these, *PassengerId* is unique for every passenger and plays no role in affecting the survival of a passenger. \n",
    "<br>Similarly,the name of passenger or point of embarkment cannot possibly affect the outcome.  *Sibsp, Parch*<br>\n",
    "are categorical variables which could be worth paying attention to. But in our opinion,  *Age*, *Pclass* and<br> *Sex*  are the most important variables that could affect survival and in this project we would like to study <br> the dependence of survival on these three variables and some of their combinations.\n",
    "\n",
    "We first create a function that computes the survival rate of passengers grouped by different variables."
   ]
  },
  {
   "cell_type": "code",
   "execution_count": 10,
   "metadata": {
    "collapsed": true
   },
   "outputs": [],
   "source": [
    "def chance_of_survival(variables):\n",
    "    '''\n",
    "    Returns the survival rates for the list of variables\n",
    "    Args:\n",
    "        -variables: list with variables to calculate the survival rates, i.e.: ['Sex','Pclass']  \n",
    "    Return:\n",
    "        A dataframe with the survival rates\n",
    "    '''\n",
    "    return titanic_data.groupby(variables).mean().loc[:,'Survived']"
   ]
  },
  {
   "cell_type": "markdown",
   "metadata": {},
   "source": [
    "Now we write a function which generates a simple bar plot visualization that representes the survival rates for the variable selected:"
   ]
  },
  {
   "cell_type": "code",
   "execution_count": 11,
   "metadata": {
    "collapsed": true
   },
   "outputs": [],
   "source": [
    "def plot_survival(variable):\n",
    "    data = titanic_data.groupby(variable).mean().reset_index()\n",
    "    # Documentation: http://pandas.pydata.org/pandas-docs/stable/generated/pandas.DataFrame.plot.html\n",
    "    data.plot(kind='bar',x=variable,y='Survived',legend=True)\n",
    "    plt.title('Survival Rate for {0}'.format(variable))\n",
    "    plt.xlabel(variable)\n",
    "    plt.ylabel('Ratio of passengers who survived')\n",
    "    plt.show()"
   ]
  },
  {
   "cell_type": "markdown",
   "metadata": {},
   "source": [
    "## Grouping by Passenger Class\n",
    "-----------------------------------------------------"
   ]
  },
  {
   "cell_type": "markdown",
   "metadata": {},
   "source": [
    "Let us understand how class affects survival. Before we understand that, let us first check how many passengers<br> travelled in each class."
   ]
  },
  {
   "cell_type": "code",
   "execution_count": 12,
   "metadata": {},
   "outputs": [
    {
     "data": {
      "text/html": [
       "<div>\n",
       "<style>\n",
       "    .dataframe thead tr:only-child th {\n",
       "        text-align: right;\n",
       "    }\n",
       "\n",
       "    .dataframe thead th {\n",
       "        text-align: left;\n",
       "    }\n",
       "\n",
       "    .dataframe tbody tr th {\n",
       "        vertical-align: top;\n",
       "    }\n",
       "</style>\n",
       "<table border=\"1\" class=\"dataframe\">\n",
       "  <thead>\n",
       "    <tr style=\"text-align: right;\">\n",
       "      <th></th>\n",
       "      <th>PassengerId</th>\n",
       "      <th>Survived</th>\n",
       "      <th>Name</th>\n",
       "      <th>Sex</th>\n",
       "      <th>Age</th>\n",
       "      <th>SibSp</th>\n",
       "      <th>Parch</th>\n",
       "      <th>Embarked</th>\n",
       "    </tr>\n",
       "    <tr>\n",
       "      <th>Pclass</th>\n",
       "      <th></th>\n",
       "      <th></th>\n",
       "      <th></th>\n",
       "      <th></th>\n",
       "      <th></th>\n",
       "      <th></th>\n",
       "      <th></th>\n",
       "      <th></th>\n",
       "    </tr>\n",
       "  </thead>\n",
       "  <tbody>\n",
       "    <tr>\n",
       "      <th>1</th>\n",
       "      <td>216</td>\n",
       "      <td>216</td>\n",
       "      <td>216</td>\n",
       "      <td>216</td>\n",
       "      <td>186</td>\n",
       "      <td>216</td>\n",
       "      <td>216</td>\n",
       "      <td>214</td>\n",
       "    </tr>\n",
       "    <tr>\n",
       "      <th>2</th>\n",
       "      <td>184</td>\n",
       "      <td>184</td>\n",
       "      <td>184</td>\n",
       "      <td>184</td>\n",
       "      <td>173</td>\n",
       "      <td>184</td>\n",
       "      <td>184</td>\n",
       "      <td>184</td>\n",
       "    </tr>\n",
       "    <tr>\n",
       "      <th>3</th>\n",
       "      <td>491</td>\n",
       "      <td>491</td>\n",
       "      <td>491</td>\n",
       "      <td>491</td>\n",
       "      <td>355</td>\n",
       "      <td>491</td>\n",
       "      <td>491</td>\n",
       "      <td>491</td>\n",
       "    </tr>\n",
       "  </tbody>\n",
       "</table>\n",
       "</div>"
      ],
      "text/plain": [
       "        PassengerId  Survived  Name  Sex  Age  SibSp  Parch  Embarked\n",
       "Pclass                                                               \n",
       "1               216       216   216  216  186    216    216       214\n",
       "2               184       184   184  184  173    184    184       184\n",
       "3               491       491   491  491  355    491    491       491"
      ]
     },
     "execution_count": 12,
     "metadata": {},
     "output_type": "execute_result"
    }
   ],
   "source": [
    "passengers_by_pclass = titanic_data.groupby(\"Pclass\").count()\n",
    "passengers_by_pclass"
   ]
  },
  {
   "cell_type": "markdown",
   "metadata": {},
   "source": [
    "Not surprisingly, a good majority people travelled in the third class. \n",
    "\n",
    "To visualize the passenger split up by class, let us create a pie chart."
   ]
  },
  {
   "cell_type": "code",
   "execution_count": 13,
   "metadata": {},
   "outputs": [
    {
     "data": {
      "text/plain": [
       "<matplotlib.text.Text at 0xc560898>"
      ]
     },
     "execution_count": 13,
     "metadata": {},
     "output_type": "execute_result"
    },
    {
     "data": {
      "image/png": "[encoded data removed]",
      "text/plain": [
       "<matplotlib.figure.Figure at 0xc2a2f60>"
      ]
     },
     "metadata": {},
     "output_type": "display_data"
    }
   ],
   "source": [
    "ax = passengers_by_pclass[\"PassengerId\"].plot(kind=\"pie\",\n",
    "                                              autopct=\"%.2f\",\n",
    "                                              title =\"Titanic passenger percentage split up by ticket class\",\n",
    "                                              labels=[\"1st Class\", \"2nd Class\", \"3rd class\"])\n",
    "ax.set_ylabel('')     "
   ]
  },
  {
   "cell_type": "markdown",
   "metadata": {},
   "source": [
    "Next we check the survival data among passengers travelling in different classes. "
   ]
  },
  {
   "cell_type": "code",
   "execution_count": 14,
   "metadata": {
    "scrolled": true
   },
   "outputs": [
    {
     "data": {
      "text/plain": [
       "Pclass\n",
       "1    0.629630\n",
       "2    0.472826\n",
       "3    0.242363\n",
       "Name: Survived, dtype: float64"
      ]
     },
     "execution_count": 14,
     "metadata": {},
     "output_type": "execute_result"
    }
   ],
   "source": [
    "survival_by_pclass = chance_of_survival(\"Pclass\")\n",
    "survival_by_pclass"
   ]
  },
  {
   "cell_type": "markdown",
   "metadata": {},
   "source": [
    "Let us visualize the survival split up of passengers by the class via a bar chart to get a better understanding."
   ]
  },
  {
   "cell_type": "code",
   "execution_count": 15,
   "metadata": {},
   "outputs": [
    {
     "data": {
      "image/png": "[encoded data removed]",
      "text/plain": [
       "<matplotlib.figure.Figure at 0xc297588>"
      ]
     },
     "metadata": {},
     "output_type": "display_data"
    }
   ],
   "source": [
    "plot_survival(\"Pclass\")"
   ]
  },
  {
   "cell_type": "markdown",
   "metadata": {},
   "source": [
    "We observe that over 75% of passengers traveling in third class did not survive while over 62% of people traveling in <br>first class survived. *This is perhaps an indication that traveling in third class decreased the likelihood of survival while <br>\n",
    "first class passengers had a greater likelihood of survival*\n"
   ]
  },
  {
   "cell_type": "markdown",
   "metadata": {},
   "source": [
    "## Grouping by Gender\n",
    "--------------------------------------------------------\n",
    "\n",
    "Let us now understand how gender affects survival. We first classify passengers by gender and see the percentage <br>split up of passengers by gender."
   ]
  },
  {
   "cell_type": "code",
   "execution_count": 16,
   "metadata": {},
   "outputs": [
    {
     "data": {
      "text/html": [
       "<div>\n",
       "<style>\n",
       "    .dataframe thead tr:only-child th {\n",
       "        text-align: right;\n",
       "    }\n",
       "\n",
       "    .dataframe thead th {\n",
       "        text-align: left;\n",
       "    }\n",
       "\n",
       "    .dataframe tbody tr th {\n",
       "        vertical-align: top;\n",
       "    }\n",
       "</style>\n",
       "<table border=\"1\" class=\"dataframe\">\n",
       "  <thead>\n",
       "    <tr style=\"text-align: right;\">\n",
       "      <th></th>\n",
       "      <th>PassengerId</th>\n",
       "      <th>Survived</th>\n",
       "      <th>Pclass</th>\n",
       "      <th>Name</th>\n",
       "      <th>Age</th>\n",
       "      <th>SibSp</th>\n",
       "      <th>Parch</th>\n",
       "      <th>Embarked</th>\n",
       "    </tr>\n",
       "    <tr>\n",
       "      <th>Sex</th>\n",
       "      <th></th>\n",
       "      <th></th>\n",
       "      <th></th>\n",
       "      <th></th>\n",
       "      <th></th>\n",
       "      <th></th>\n",
       "      <th></th>\n",
       "      <th></th>\n",
       "    </tr>\n",
       "  </thead>\n",
       "  <tbody>\n",
       "    <tr>\n",
       "      <th>female</th>\n",
       "      <td>314</td>\n",
       "      <td>314</td>\n",
       "      <td>314</td>\n",
       "      <td>314</td>\n",
       "      <td>261</td>\n",
       "      <td>314</td>\n",
       "      <td>314</td>\n",
       "      <td>312</td>\n",
       "    </tr>\n",
       "    <tr>\n",
       "      <th>male</th>\n",
       "      <td>577</td>\n",
       "      <td>577</td>\n",
       "      <td>577</td>\n",
       "      <td>577</td>\n",
       "      <td>453</td>\n",
       "      <td>577</td>\n",
       "      <td>577</td>\n",
       "      <td>577</td>\n",
       "    </tr>\n",
       "  </tbody>\n",
       "</table>\n",
       "</div>"
      ],
      "text/plain": [
       "        PassengerId  Survived  Pclass  Name  Age  SibSp  Parch  Embarked\n",
       "Sex                                                                     \n",
       "female          314       314     314   314  261    314    314       312\n",
       "male            577       577     577   577  453    577    577       577"
      ]
     },
     "execution_count": 16,
     "metadata": {},
     "output_type": "execute_result"
    }
   ],
   "source": [
    "passengers_by_gender = titanic_data.groupby(\"Sex\").count()\n",
    "passengers_by_gender"
   ]
  },
  {
   "cell_type": "code",
   "execution_count": 17,
   "metadata": {},
   "outputs": [
    {
     "data": {
      "text/plain": [
       "<matplotlib.text.Text at 0xc8c8668>"
      ]
     },
     "execution_count": 17,
     "metadata": {},
     "output_type": "execute_result"
    },
    {
     "data": {
      "image/png": "[encoded data removed]",
      "text/plain": [
       "<matplotlib.figure.Figure at 0xc711cf8>"
      ]
     },
     "metadata": {},
     "output_type": "display_data"
    }
   ],
   "source": [
    "plotpie_by_gender = passengers_by_gender.plot.pie(\"PassengerId\",\n",
    "                                                  autopct=\"%0.2f\",\n",
    "                                                  title = \"Titanic passenger percentage split up by gender\",\n",
    "                                                  labels=[\"Female\", \"Male\"])\n",
    "plotpie_by_gender.set_ylabel('')"
   ]
  },
  {
   "cell_type": "markdown",
   "metadata": {},
   "source": [
    "About a third of the passengers are female. Let us now look at the survival split up of passengers by gender. "
   ]
  },
  {
   "cell_type": "code",
   "execution_count": 18,
   "metadata": {},
   "outputs": [
    {
     "data": {
      "text/plain": [
       "Sex\n",
       "female    0.742038\n",
       "male      0.188908\n",
       "Name: Survived, dtype: float64"
      ]
     },
     "execution_count": 18,
     "metadata": {},
     "output_type": "execute_result"
    }
   ],
   "source": [
    "survival_by_gender = chance_of_survival(\"Sex\")\n",
    "survival_by_gender"
   ]
  },
  {
   "cell_type": "markdown",
   "metadata": {
    "collapsed": true
   },
   "source": [
    "Almost 75% of female passengers survived while only 19% of male passengers survived.<br>Let us \n",
    "visualize the survival split up via a bar chart to get a better understanding. "
   ]
  },
  {
   "cell_type": "code",
   "execution_count": 19,
   "metadata": {},
   "outputs": [
    {
     "data": {
      "image/png": "[encoded data removed]",
      "text/plain": [
       "<matplotlib.figure.Figure at 0xc7760f0>"
      ]
     },
     "metadata": {},
     "output_type": "display_data"
    }
   ],
   "source": [
    "plot_survival(\"Sex\")"
   ]
  },
  {
   "cell_type": "markdown",
   "metadata": {},
   "source": [
    "As seen before, over 74 % of female passengers survived while over 81% of male passengers did not survive. *This is a strong indication <br>that\n",
    "the gender of a passenger affected survival*. \n",
    "\n",
    "So far we have some evidence that class and gender play a role in survival. To explore the survival dependency on both <br>of them, let us group the survival data by both gender and class."
   ]
  },
  {
   "cell_type": "markdown",
   "metadata": {},
   "source": [
    "## Grouping by gender and class\n",
    "--------------------------------------------------------"
   ]
  },
  {
   "cell_type": "code",
   "execution_count": 20,
   "metadata": {},
   "outputs": [
    {
     "data": {
      "text/plain": [
       "Sex     Pclass\n",
       "female  1         0.968085\n",
       "        2         0.921053\n",
       "        3         0.500000\n",
       "male    1         0.368852\n",
       "        2         0.157407\n",
       "        3         0.135447\n",
       "Name: Survived, dtype: float64"
      ]
     },
     "execution_count": 20,
     "metadata": {},
     "output_type": "execute_result"
    }
   ],
   "source": [
    "#survival_by_gender_and_class = pd.crosstab([titanic_data.Survived.astype(bool)],\n",
    "                                           #[titanic_data.Sex,titanic_data.Pclass])\n",
    "survival_by_gender_and_class = chance_of_survival([\"Sex\",\"Pclass\"])\n",
    "survival_by_gender_and_class"
   ]
  },
  {
   "cell_type": "markdown",
   "metadata": {},
   "source": [
    "Let us now look at a bar plot showing the survival probability for passengers grouped by gender and class."
   ]
  },
  {
   "cell_type": "code",
   "execution_count": 21,
   "metadata": {},
   "outputs": [
    {
     "data": {
      "image/png": "[encoded data removed]",
      "text/plain": [
       "<matplotlib.figure.Figure at 0xc736438>"
      ]
     },
     "metadata": {},
     "output_type": "display_data"
    }
   ],
   "source": [
    "plot_survival([\"Sex\",\"Pclass\"])"
   ]
  },
  {
   "cell_type": "markdown",
   "metadata": {},
   "source": [
    "We notice that over 96% of the female first class and over 92% of female second class passengers survived<br> while over 84% of male second class and over 86% of male third class passengers did not survive. This makes <br>our initial hypothesis more credible. \n",
    "\n",
    "*We can infer that class and gender do affect survival. Female first and second class passengers have a very high <br>likelihood of survival while male second and third class passengers have a low likelihood of survival.*"
   ]
  },
  {
   "cell_type": "markdown",
   "metadata": {},
   "source": [
    "## Grouping by Age\n",
    "----------------------------------------"
   ]
  },
  {
   "cell_type": "markdown",
   "metadata": {},
   "source": [
    "We now consider whether  age played a role in survival of a passenger and try to observe<br>\n",
    "any underlying patterns. The resultant analysis will be slightly different compared to before<br>\n",
    "as age is a continuous variable. Also, recall that the *Age* column had only 714 non missing <br>\n",
    "out of a possible 891 values. \n",
    "\n",
    "Before we begin let us plot a histogram of the non-missing age of passengers and see some statistics.\n",
    "\n"
   ]
  },
  {
   "cell_type": "code",
   "execution_count": 22,
   "metadata": {},
   "outputs": [
    {
     "data": {
      "text/plain": [
       "count    714.000000\n",
       "mean      29.699118\n",
       "std       14.526497\n",
       "min        0.420000\n",
       "25%       20.125000\n",
       "50%       28.000000\n",
       "75%       38.000000\n",
       "max       80.000000\n",
       "Name: Age, dtype: float64"
      ]
     },
     "execution_count": 22,
     "metadata": {},
     "output_type": "execute_result"
    }
   ],
   "source": [
    "passengers_by_age = titanic_data[\"Age\"]\n",
    "passengers_by_age.describe()"
   ]
  },
  {
   "cell_type": "markdown",
   "metadata": {},
   "source": [
    "The mean age of the passengers was about 30 and the median age was 28. Moreover,<br>\n",
    "75% of the passengers were under the age of 38, implying a relatively young age<br>\n",
    "distribution amongst the passengers. The oldest passenger was 80 years old and the <br>\n",
    "youngest about 5 months old."
   ]
  },
  {
   "cell_type": "code",
   "execution_count": 23,
   "metadata": {},
   "outputs": [
    {
     "data": {
      "text/plain": [
       "<matplotlib.text.Text at 0xdb0a128>"
      ]
     },
     "execution_count": 23,
     "metadata": {},
     "output_type": "execute_result"
    },
    {
     "data": {
      "image/png": "[encoded data removed]",
      "text/plain": [
       "<matplotlib.figure.Figure at 0xd81e080>"
      ]
     },
     "metadata": {},
     "output_type": "display_data"
    }
   ],
   "source": [
    "histogram_age = passengers_by_age.plot(kind='hist',\n",
    "                                  bins=30,\n",
    "                                  title=\"Histogram of Titanic passenger ages \\n\",\n",
    "                                  color='c')\n",
    "histogram_age.set_xlabel(\"Age\")\n",
    "histogram_age.set_ylabel(\"Number of passengers\")"
   ]
  },
  {
   "cell_type": "markdown",
   "metadata": {},
   "source": [
    "To check the dependence of survival on age, let us compute the point biserial coefficient between the binary variable<br> *Survived* and the continuous variable *Age*. A correlation of 0 implies no correlation while a correlation of +1 or -1<br>\n",
    "imples a determinative relationship. We will use *scipy* package for this purpose. \n",
    "\n",
    "First we remove all entries that have Age value missing  and then compute the <br>\n",
    "correlation between the remaining *Survived* values and *Age* values."
   ]
  },
  {
   "cell_type": "code",
   "execution_count": 24,
   "metadata": {},
   "outputs": [
    {
     "data": {
      "text/plain": [
       "PointbiserialrResult(correlation=-0.077221094572177656, pvalue=0.039124654013483327)"
      ]
     },
     "execution_count": 24,
     "metadata": {},
     "output_type": "execute_result"
    }
   ],
   "source": [
    "from scipy import stats\n",
    "temp = titanic_data[pd.isnull(titanic_data[\"Age\"])==False]\n",
    "stats.pointbiserialr(np.array(temp[\"Survived\"]),np.array(temp[\"Age\"]))"
   ]
  },
  {
   "cell_type": "markdown",
   "metadata": {},
   "source": [
    "We get a weak correlation of 0.077 with a p-value of 0.03. (The p-value roughly indicates the probability of an uncorrelated<br> system producing datasets that have a Pearson correlation at least as extreme as the one computed from these datasets. The<br> p-values are not entirely reliable but are probably reasonable for datasets larger than 500 or so.)"
   ]
  },
  {
   "cell_type": "markdown",
   "metadata": {
    "collapsed": true
   },
   "source": [
    "Next we compute the statistics and plot histograms of passengers' ages grouped\n",
    "by survival."
   ]
  },
  {
   "cell_type": "code",
   "execution_count": 25,
   "metadata": {},
   "outputs": [
    {
     "data": {
      "text/html": [
       "<div>\n",
       "<style>\n",
       "    .dataframe thead tr:only-child th {\n",
       "        text-align: right;\n",
       "    }\n",
       "\n",
       "    .dataframe thead th {\n",
       "        text-align: left;\n",
       "    }\n",
       "\n",
       "    .dataframe tbody tr th {\n",
       "        vertical-align: top;\n",
       "    }\n",
       "</style>\n",
       "<table border=\"1\" class=\"dataframe\">\n",
       "  <thead>\n",
       "    <tr style=\"text-align: right;\">\n",
       "      <th></th>\n",
       "      <th>count</th>\n",
       "      <th>mean</th>\n",
       "      <th>std</th>\n",
       "      <th>min</th>\n",
       "      <th>25%</th>\n",
       "      <th>50%</th>\n",
       "      <th>75%</th>\n",
       "      <th>max</th>\n",
       "    </tr>\n",
       "    <tr>\n",
       "      <th>Survived</th>\n",
       "      <th></th>\n",
       "      <th></th>\n",
       "      <th></th>\n",
       "      <th></th>\n",
       "      <th></th>\n",
       "      <th></th>\n",
       "      <th></th>\n",
       "      <th></th>\n",
       "    </tr>\n",
       "  </thead>\n",
       "  <tbody>\n",
       "    <tr>\n",
       "      <th>0</th>\n",
       "      <td>424.0</td>\n",
       "      <td>30.626179</td>\n",
       "      <td>14.172110</td>\n",
       "      <td>1.00</td>\n",
       "      <td>21.0</td>\n",
       "      <td>28.0</td>\n",
       "      <td>39.0</td>\n",
       "      <td>74.0</td>\n",
       "    </tr>\n",
       "    <tr>\n",
       "      <th>1</th>\n",
       "      <td>290.0</td>\n",
       "      <td>28.343690</td>\n",
       "      <td>14.950952</td>\n",
       "      <td>0.42</td>\n",
       "      <td>19.0</td>\n",
       "      <td>28.0</td>\n",
       "      <td>36.0</td>\n",
       "      <td>80.0</td>\n",
       "    </tr>\n",
       "  </tbody>\n",
       "</table>\n",
       "</div>"
      ],
      "text/plain": [
       "          count       mean        std   min   25%   50%   75%   max\n",
       "Survived                                                           \n",
       "0         424.0  30.626179  14.172110  1.00  21.0  28.0  39.0  74.0\n",
       "1         290.0  28.343690  14.950952  0.42  19.0  28.0  36.0  80.0"
      ]
     },
     "execution_count": 25,
     "metadata": {},
     "output_type": "execute_result"
    }
   ],
   "source": [
    "age_by_survival=titanic_data.groupby(\"Survived\").Age\n",
    "age_by_survival.describe()"
   ]
  },
  {
   "cell_type": "markdown",
   "metadata": {},
   "source": [
    "There is not much of a difference in the mean, median and standard deviation of the age of <br>\n",
    "who did and did not survive. The mean age of survivors is slightly less while the standard deviation is <br>\n",
    "slightly more. Moreover, the 75th percentile of survivor's age is a little less than that for non-survivors.\n",
    "\n",
    "Let us now look at a histogram visualization of the passenger's age grouped by survival."
   ]
  },
  {
   "cell_type": "code",
   "execution_count": 26,
   "metadata": {},
   "outputs": [
    {
     "data": {
      "image/png": "[encoded data removed]",
      "text/plain": [
       "<matplotlib.figure.Figure at 0xd861e48>"
      ]
     },
     "metadata": {},
     "output_type": "display_data"
    },
    {
     "data": {
      "image/png": "[encoded data removed]",
      "text/plain": [
       "<matplotlib.figure.Figure at 0xddc1208>"
      ]
     },
     "metadata": {},
     "output_type": "display_data"
    },
    {
     "data": {
      "text/plain": [
       "<matplotlib.figure.Figure at 0xdd14550>"
      ]
     },
     "metadata": {},
     "output_type": "display_data"
    }
   ],
   "source": [
    "colors=['r','m']\n",
    "for i,group in age_by_survival:\n",
    "    temp = group.plot(kind=\"hist\", \n",
    "                      title = \"Histogram of Titanic passenger ages with survival = \" + str(bool(i)) + \"\\n\",\n",
    "                      legend=True,\n",
    "                      bins=30,\n",
    "                      color=colors[i])\n",
    "    temp.set_xlabel(\"Age\")\n",
    "    temp.set_ylabel(\"Number of Passengers\")\n",
    "    plt.figure()"
   ]
  },
  {
   "cell_type": "markdown",
   "metadata": {},
   "source": [
    "We observe the distribution of age amongst the survivors and non-survivors is quite similar. \n",
    "\n",
    "To see if age is a factor in survival, we need to seperate the passengers in to by age categories and look at<br>\n",
    "survival probability in each age category."
   ]
  },
  {
   "cell_type": "code",
   "execution_count": 27,
   "metadata": {},
   "outputs": [
    {
     "data": {
      "text/plain": [
       "<matplotlib.text.Text at 0xdfdc940>"
      ]
     },
     "execution_count": 27,
     "metadata": {},
     "output_type": "execute_result"
    },
    {
     "data": {
      "image/png": "[encoded data removed]",
      "text/plain": [
       "<matplotlib.figure.Figure at 0xdcda518>"
      ]
     },
     "metadata": {},
     "output_type": "display_data"
    }
   ],
   "source": [
    "titanic_data[\"AgeGroup\"] = pd.cut(titanic_data[\"Age\"], bins = [0,5,18,60,90], \n",
    "                                  labels=['Infants','Children','Adults','Seniors'])\n",
    "sns.barplot(x=\"AgeGroup\", y=\"Survived\", data=titanic_data,ci=None)\n",
    "plt.title('Survival by Age Group')\n",
    "plt.ylabel('Probability of survival')\n",
    "plt.xlabel('Age group')"
   ]
  },
  {
   "cell_type": "markdown",
   "metadata": {},
   "source": [
    "Some observations are in order. Amongst infants (0-5 years) we see that about 70 % survive\n",
    "while more than<br> half of children (5-18 years) and adults (18-60) did not survive. \n",
    "Moreover, abut 75 % of seniors did not survive. \n",
    "\n",
    "Though age is not a major factor in survival as we saw from the Point biserial test, infants have a high chance<br>\n",
    "of survival. This can be perhaps attributed to infants getting a priority\n",
    "during the evacuation procedures. \n",
    "\n",
    "Let us go one step further and understand if age and gender together had any effect on survival.\n",
    "## Grouping by age and gender\n",
    "----------------------------------------------------"
   ]
  },
  {
   "cell_type": "code",
   "execution_count": 28,
   "metadata": {},
   "outputs": [
    {
     "data": {
      "text/plain": [
       "<matplotlib.text.Text at 0xdae3588>"
      ]
     },
     "execution_count": 28,
     "metadata": {},
     "output_type": "execute_result"
    },
    {
     "data": {
      "image/png": "[encoded data removed]",
      "text/plain": [
       "<matplotlib.figure.Figure at 0xe397080>"
      ]
     },
     "metadata": {},
     "output_type": "display_data"
    }
   ],
   "source": [
    "survival_by_age_and_gender = titanic_data.groupby(['AgeGroup','Sex'],as_index=False).mean().loc[:,['AgeGroup','Sex','Survived']]\n",
    "sns.barplot(x=\"AgeGroup\", y=\"Survived\", hue=\"Sex\", data=survival_by_age_and_gender)\n",
    "plt.title(\"Survival probability by Age group and Gender\")\n",
    "plt.xlabel(\"Age Group\")\n",
    "plt.ylabel(\"Probability of Survival\")"
   ]
  },
  {
   "cell_type": "markdown",
   "metadata": {
    "collapsed": true
   },
   "source": [
    "We observe that a good chunk male passengers beyond the age of 5 did not survive while almost all of the female seniors\n",
    "survived.<br> This can be attributed to female seniors having a greater priority during evacuation."
   ]
  },
  {
   "cell_type": "markdown",
   "metadata": {},
   "source": [
    "# Summary\n",
    "---------------------------------"
   ]
  },
  {
   "cell_type": "markdown",
   "metadata": {},
   "source": [
    "In this project, we analyzed the survival likelihood of 891 passengers aboard the Titanic.\n",
    "We concentrated our analysis<br> on Age, Sex and Passenger class and tried to understand if any\n",
    "of these factors had an effect on survival of passengers. <br> We found out that Gender and class\n",
    "affected the survival. \n",
    "\n",
    "Female first class and second class passengers had a very high chance of survival while male\n",
    "second and third class<br> passengers had a low likelihood of survival. Age was not\n",
    "a major factor in survival and the age distribution amongst survivors<br> and non-\n",
    "survivors was similar. However, infants below the age of 5 and female seniors had a very high chance of survival.<BR> It is likely that we see these trends\n",
    "because certain groups of passengers recevied higher priority during the evacuation<BR> process\n",
    "and thus had a higher rate of survival. \n",
    "\n",
    "We end by pointing out the limitations of this data analysis. To start off, we note that there is a sample bias. Only the records of<br> 891 passengers aboard the Titanic out of a possible 2224 were analyzed. It is likely that some sort of \n",
    "intentional<br> or unintentional bias crept in while selecting the sample thereby causing certain groups of passengers\n",
    "to be over or under<br> represented. Secondly, we found that quite a few observations were missing. For instance, under the *Age* column, there were<br> substantial number of missing values. This could have had an effect on the conclusions drawn, for example  with respect to<br> *Age* distribution."
   ]
  }
 ],
 "metadata": {
  "kernelspec": {
   "display_name": "Python 2",
   "language": "python",
   "name": "python2"
  },
  "language_info": {
   "codemirror_mode": {
    "name": "ipython",
    "version": 2
   },
   "file_extension": ".py",
   "mimetype": "text/x-python",
   "name": "python",
   "nbconvert_exporter": "python",
   "pygments_lexer": "ipython2",
   "version": "2.7.13"
  }
 },
 "nbformat": 4,
 "nbformat_minor": 2
}
